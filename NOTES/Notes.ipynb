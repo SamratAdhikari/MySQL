{
 "cells": [
  {
   "cell_type": "markdown",
   "id": "eabc48d3",
   "metadata": {},
   "source": [
    "### What is MySQL?"
   ]
  },
  {
   "cell_type": "markdown",
   "id": "63472425",
   "metadata": {},
   "source": [
    "MySQL is a relational database management system (RDBMS) developed by Oracle that is based on Structured Query Language (SQL)."
   ]
  },
  {
   "cell_type": "markdown",
   "id": "3318fea8",
   "metadata": {},
   "source": [
    "### What is database?"
   ]
  },
  {
   "cell_type": "markdown",
   "id": "8dfb9a25",
   "metadata": {},
   "source": [
    "A database is an organized collection of structured information or data."
   ]
  },
  {
   "cell_type": "markdown",
   "id": "dad8269f",
   "metadata": {},
   "source": [
    "### What is DBMS?"
   ]
  },
  {
   "cell_type": "markdown",
   "id": "9ad50743",
   "metadata": {},
   "source": [
    "Database Management Systems (DBMS) are software systems used to store, retrieve and run queries on data.  \n",
    "Examples of some Queries are:\n",
    "- C: Create\n",
    "- R: Read\n",
    "- U: Update\n",
    "- D: Delete"
   ]
  },
  {
   "cell_type": "markdown",
   "id": "5aeccabb",
   "metadata": {},
   "source": [
    "### Types of DBMS?"
   ]
  },
  {
   "cell_type": "markdown",
   "id": "213a6e35",
   "metadata": {},
   "source": [
    "<b>Relational (SQL):</b>\n",
    "- A relational database is a collection of data items with pre-defined relationships between them, stored in the form of table, rows and columns.\n",
    "- List of SQL databases:\n",
    "    - MySQL\n",
    "    - MariaDB\n",
    "    - Oracle\n",
    "    - PostgreSQL\n",
    "    - MSSQL\n",
    "    \n",
    "\n",
    "<br>\n",
    "\n",
    "<b>Non-Relational (No-SQL):</b>  \n",
    "- A non-relational database is a type of database management system that does not use the traditional table-based relational model of SQL databases. \n",
    "- Instead, it uses different data models to organize and store data and is designed to handle large volumes of unstructured or semi-structured data in big data and real-time web applications. \n",
    "- They are highly scalable, flexible, and easily modifiable.\n",
    "- List of NoSQL databases:\n",
    "    - MongoDB\n",
    "    - Cassandra\n",
    "    - Redis\n",
    "    - Amazon DynamoDB\n",
    "    - Apache HBase"
   ]
  },
  {
   "cell_type": "markdown",
   "id": "28f82b14",
   "metadata": {},
   "source": [
    "### What is a database table?"
   ]
  },
  {
   "cell_type": "markdown",
   "id": "2ba5063a",
   "metadata": {},
   "source": [
    "Database table is a collection of rows and columns that contains relational data."
   ]
  },
  {
   "cell_type": "markdown",
   "id": "f4129890",
   "metadata": {},
   "source": [
    "### What is WHERE clause?"
   ]
  },
  {
   "cell_type": "markdown",
   "id": "df239db3",
   "metadata": {},
   "source": [
    "The WHERE clause is used to filter records.  \n",
    "It is used to extract those records that fulfill a specified condition.  \n",
    "Conditions that can be used in WHERE clause are:  \n",
    "- equals to: =\n",
    "- not equals to: !=\n",
    "- greater than: >\n",
    "- smaller than: <\n",
    "- greater than or equals to: >=\n",
    "- smaller than or equals to: <="
   ]
  },
  {
   "cell_type": "markdown",
   "id": "c603fd30",
   "metadata": {},
   "source": [
    "### Alter Clause"
   ]
  },
  {
   "cell_type": "markdown",
   "id": "45769354",
   "metadata": {},
   "source": [
    "- Alter is used to bring chances to the table.\n",
    "- Used to:\n",
    "    - add column in a table\n",
    "    - change datatype of a column\n",
    "    - change column name\n",
    "    - add constraints to a column\n",
    "    - delete column\n",
    "    - renaming table"
   ]
  },
  {
   "cell_type": "markdown",
   "id": "dbff4a4e",
   "metadata": {},
   "source": [
    "### Constraints in MySQL"
   ]
  },
  {
   "cell_type": "markdown",
   "id": "9b691c70",
   "metadata": {},
   "source": [
    "Constraints in DBMS are the restrictions that are applied to data or operations on the data.  \n",
    "This means that constraints allow only a particular kind of data to be inserted in the database or only some particular kind of operations to be performed on the data in the database.  \n",
    "Constraints are used to validate the data.  \n",
    "Some contraints in MySQL are:  \n",
    "- NOT NULL\n",
    "- UNIQUE\n",
    "- DEFAULT\n",
    "- CHECK\n",
    "- FOREIGN KEY\n",
    "- PRIMARY KEY"
   ]
  },
  {
   "cell_type": "markdown",
   "id": "ad480a90",
   "metadata": {},
   "source": [
    "### Operators in MySQL"
   ]
  },
  {
   "cell_type": "markdown",
   "id": "94c131e5",
   "metadata": {},
   "source": [
    "In SQL, operators are used to perform different types of operations on data and to compare values. Here are the main types of operators in SQL:  \n",
    "\n",
    "<b>Arithmetic Operators:</b>   \n",
    "- used to perform mathematical calculations on numerical values.\n",
    "   - Addition (+)\n",
    "   - Subtraction (-)\n",
    "   - Multiplication (*)\n",
    "   - Division (/)\n",
    "   - Modulo (%)\n",
    "\n",
    "<b>Comparison Operators:</b>    \n",
    "- used to compare values in a SQL statement.\n",
    "   - Equal to (=)\n",
    "   - Not equal to (<> or !=)\n",
    "   - Greater than (>)\n",
    "   - Less than (<)\n",
    "   - Greater than or equal to (>=)\n",
    "   - Less than or equal to (<=)\n",
    "\n",
    "<b>Logical Operators:</b>    \n",
    "- used to combine multiple conditions in a SQL statement.\n",
    "   - AND\n",
    "   - OR\n",
    "   - NOT\n",
    "\n",
    "<b>Bitwise Operators:</b>    \n",
    "- used to perform operations on binary values.\n",
    "   - Bitwise AND (&)\n",
    "   - Bitwise OR (|)\n",
    "   - Bitwise XOR (^)\n",
    "   - Bitwise NOT (~)\n",
    "\n",
    "<b>Assignment Operators:</b>    \n",
    "- used to assign a value to a variable or column in a SQL statement.\n",
    "   - Equals (=)\n",
    "   - Plus equals (+=)\n",
    "   - Minus equals (-=)\n",
    "   - Multiply equals (*=)\n",
    "   - Divide equals (/=)\n",
    "\n",
    "\n",
    "<br>\n",
    "\n",
    "<b>Other Comparision Operators:</b>  \n",
    "<u>IN operator:</u>\n",
    "- IN operator allows you to specify multiple values in a WHERE clause.\n",
    "- IN operator is a shorthand for multiple OR conditions.\n",
    "\n",
    "<u>LIKE operator:</u>  \n",
    "- LIKE operator is used in a WHERE clause to search for a specified pattern in a column.\n",
    "- The percent sign (%) represents zero, one or multiple characters.\n",
    "- The underscore sign (_) represents one, single character.  \n",
    "% and _ are called wildcards.\n",
    "<img src='assets/LIKE operator table.png' width=500>"
   ]
  },
  {
   "cell_type": "markdown",
   "id": "0211ea9a",
   "metadata": {},
   "source": [
    "## Clauses in SQL"
   ]
  },
  {
   "cell_type": "markdown",
   "id": "2f00794e",
   "metadata": {},
   "source": [
    "A clause in SQL is a built-in function that helps to fetch the required records from a database table. A clause receives a conditional expression, i.e. a column name or some terms involving the columns.  \n",
    "\n",
    "<b>SELECT:</b> \n",
    "- used to select data from one or more tables    \n",
    "   \n",
    "<b>FROM:</b> \n",
    "- used to specify the table or tables from which data will be selected  \n",
    "\n",
    "<b>WHERE:</b> \n",
    "- used to filter data based on a specific condition  \n",
    "\n",
    "<b>GROUP BY:</b> \n",
    "- used to group rows based on a specific column or set of columns  \n",
    "\n",
    "<b>HAVING:</b> \n",
    "- used to filter data based on a specific condition after grouping  \n",
    "\n",
    "<b>ORDER BY:</b> \n",
    "- used to sort the result set in ascending or descending order based on a  specific column or set of columns  \n",
    "\n",
    "<b>LIMIT:</b> \n",
    "- used to limit the number of rows returned by the query  \n",
    "\n",
    "<b>OFFSET:</b> \n",
    "- used to specify the starting point for returning rows in a query with LIMIT  \n",
    "\n",
    "<b>JOIN:</b> \n",
    "- used to combine rows from two or more tables based on a related column between them  \n",
    "\n",
    "<b>UNION:</b> \n",
    "- used to combine the result set of two or more SELECT statements into a single result set  \n",
    "\n",
    "<b>INSERT INTO:</b> \n",
    "- used to insert new data into a table  \n",
    "\n",
    "<b>UPDATE:</b> \n",
    "- used to update existing data in a table  \n",
    "\n",
    "<b>DELETE FROM:</b> \n",
    "- used to delete data from a table  \n",
    "\n",
    "<b>CREATE TABLE:</b> \n",
    "- used to create a new table  \n",
    "\n",
    "<b>ALTER TABLE:</b>   \n",
    "- used to modify the structure of an existing table  \n",
    "\n",
    "<b>DROP TABLE:</b>   \n",
    "- used to delete a table from the database."
   ]
  },
  {
   "cell_type": "markdown",
   "id": "8613d401",
   "metadata": {},
   "source": [
    "### Aggregate Functions"
   ]
  },
  {
   "cell_type": "markdown",
   "id": "f01cfbd7",
   "metadata": {},
   "source": [
    "- COUNT() : Returns the number of rows in a database table.\n",
    "- SUM()   : Returns the total sum of a numeric column.\n",
    "- AVG()   : Calculates the average of a set of values.\n",
    "- MIN()   : Returns the lowest value in a set of non-null values.\n",
    "- MAX()   : Returns the greatest value in a set of non-null values. "
   ]
  },
  {
   "cell_type": "markdown",
   "id": "0d4d357e",
   "metadata": {},
   "source": [
    "### Data Transaction"
   ]
  },
  {
   "cell_type": "markdown",
   "id": "b5a5a8db",
   "metadata": {},
   "source": [
    "- Commit is used to save the changes in the database permanently.\n",
    "- Commit can be used after the CUD operations.\n",
    "- Rollback is used to revert back the database to the last Commit."
   ]
  },
  {
   "cell_type": "markdown",
   "id": "febff8ed",
   "metadata": {},
   "source": [
    "### Keys"
   ]
  },
  {
   "cell_type": "markdown",
   "id": "4e50a905",
   "metadata": {},
   "source": [
    "<b>Primary Key:</b>\n",
    "- Primary key always contains unique data.\n",
    "- It cannot be null.\n",
    "- There must be a single primary key.  \n",
    "\n",
    "<b>Foreign Key:</b>  \n",
    "- The foreign key is used to link two tables.\n",
    "- A foreign key in one table (child table) is used to point Primary Key in another table (parent table)."
   ]
  },
  {
   "cell_type": "markdown",
   "id": "0cc16090",
   "metadata": {},
   "source": [
    "### Data Types"
   ]
  },
  {
   "cell_type": "markdown",
   "id": "2e646989",
   "metadata": {},
   "source": [
    "There are primarily 3 data types in SQL:\n",
    "- String Data Types:\n",
    "    - CHAR(size) : 0 to 255\n",
    "    - VARCHAR(size) : 0 to 65535\n",
    "    - BINARY(size)\n",
    "    - VARBINARY(size)\n",
    "    - TINYTEXT : 255 characters\n",
    "    - TEXT(size) : 65,535 bytes\n",
    "    - MEDIUMTEXT : 16,777,215 characters\n",
    "    - LONGTEXT : 4,294,967,295 characters\n",
    "    - TINYBLOB : 255 bytes\n",
    "    - BLOB(size) : 65,535 bytes\n",
    "    - MEDIUMBLOB : 16,777,215 bytes\n",
    "    - LONGBLOB : 4,294,967,295 bytes\n",
    "    - ENUM(val1, val2, val3, ...) : list upto 65535 values\n",
    "    - SET(val1, val2, val3, ...) : list upto 64 values\n",
    "\n",
    "<br>\n",
    "\n",
    "- Numeric Data Type:\n",
    "    - BIT(size) : 1 to 64\n",
    "    - TINYINT(size) : -128 to 127\n",
    "    - INT(size) : -2147483648 to 2147483647\n",
    "    - INTEGER(size)\n",
    "    - SMALLINT(size) : -32768 to 32767\n",
    "    - MEDIUMINT(size) : -8388608 to 8388607\n",
    "    - BIGINT(size) : -9223342036854775808 to 9223342036854775807\n",
    "    - BOOL\n",
    "    - BOOLEAN: 0/1\n",
    "    - FLOAT(p)\n",
    "    - DOUBLE(size, d) : 255.568\n",
    "    - DECIMAL(size, d): size=60, d=30\n",
    "    - DEC(size, d)\n",
    "    \n",
    "<br>\n",
    "\n",
    "- Date & Time Data Type:\n",
    "    - DATE : '1000-01-01' to '9999-12-31'\n",
    "    - DATETIME(fsp) : YYYY-MM-DD hh:mm:ss\n",
    "    - TIMESTAMP(fsp)\n",
    "    - TIME(fsp) : hh:mm:ss\n",
    "    - YEAR : YYYY"
   ]
  },
  {
   "cell_type": "markdown",
   "id": "9c2fd569",
   "metadata": {},
   "source": [
    "## <center>Code and Syntax:</center>"
   ]
  },
  {
   "cell_type": "markdown",
   "id": "c56b24b4",
   "metadata": {},
   "source": [
    "### `INITIALIZE DATABASE & TABLE:`"
   ]
  },
  {
   "cell_type": "markdown",
   "id": "6957d4e9",
   "metadata": {},
   "source": [
    "\n",
    "<b>Create a new database</b>  \n",
    "CREATE DATABASE db_name;\n",
    "\n",
    "<b>Select a database:</b>  \n",
    "USE db_name;\n",
    "\n",
    "<b>Create a new table inside the selected database:</b>  \n",
    "CREATE TABLE table_name(  \n",
    "    column1 datatype,   \n",
    "    column2 datatype,  \n",
    "    column3 datatype,  \n",
    "    ...  \n",
    ");"
   ]
  },
  {
   "cell_type": "markdown",
   "id": "4591d286",
   "metadata": {},
   "source": [
    "### `INSERT QUERY:`"
   ]
  },
  {
   "cell_type": "markdown",
   "id": "ce6f7d40",
   "metadata": {},
   "source": [
    "<b>Insert single row into the table:</b>  \n",
    "INSERT INTO table_name   \n",
    "(col1, col2, col3, ...)  \n",
    "VALUES   \n",
    "(val1, val2, val3, ...);\n",
    "\n",
    "<b>Insert multiple rows into the table:</b>  \n",
    "INSERT INTO table_name  \n",
    "(col1, col2, col3, ...)  \n",
    "VALUES  \n",
    "(val1, val2, val3, ...),  \n",
    "(val1, val2, val3, ...),  \n",
    "(val1, val2, val3, ...);  \n",
    "\n",
    "<b>Insert rows without mentioning the column names:</b> (NOTE: the values must correspond to columns)  \n",
    "INSERT INTO table_name VALUES    \n",
    "(val1, val2, val3, ...),  \n",
    "(val1, val2, val3, ...),  \n",
    "(val1, val2, val3, ...);  "
   ]
  },
  {
   "cell_type": "markdown",
   "id": "ad5a5efa",
   "metadata": {},
   "source": [
    "### `SELECT QUERY:`"
   ]
  },
  {
   "cell_type": "markdown",
   "id": "164cb0a8",
   "metadata": {},
   "source": [
    "<b>Select some columns:</b>  \n",
    "SELECT col1, col2, col3, ...  \n",
    "FROM table_name;  \n",
    "\n",
    "<b>Select column name and display them with an alias:</b>  \n",
    "SELECT col1, col2 AS \"alias_name\", col3, ...  \n",
    "FROM table_name;  \n",
    "\n",
    "<b>Select all columns:</b>  \n",
    "SELECT * FROM table_name;\n",
    "\n",
    "<b>Select columns using WHERE clause:</b>  \n",
    "SELECT col1, col2, ...  \n",
    "FROM table_name  \n",
    "WHERE condition;"
   ]
  },
  {
   "cell_type": "markdown",
   "id": "22e65d4b",
   "metadata": {},
   "source": [
    "### `ALETR QUERY:`"
   ]
  },
  {
   "cell_type": "markdown",
   "id": "5b0109ac",
   "metadata": {},
   "source": [
    "<b>Add column:</b>  \n",
    "ALTER TABLE table_name  \n",
    "ADD column_name data_type;  \n",
    "\n",
    "<b>Modify column:</b>  \n",
    "ALTER TABLE table_name  \n",
    "MODIFY column_name data_type;\n",
    "\n",
    "<b>Delete column:</b>  \n",
    "ALTER TABLE table_name  \n",
    "DROP COLUMN column_name data_type;\n",
    "\n",
    "<b>Rename column:</b>  \n",
    "ALTER TABLE table_name  \n",
    "CHANGE column_name new_column_name data_type;\n",
    "\n",
    "<b>Rename table:</b>  \n",
    "ALTER TABLE table_name  \n",
    "RENAME new_table_name;"
   ]
  },
  {
   "cell_type": "markdown",
   "id": "56f739a7",
   "metadata": {},
   "source": [
    "### `OPERATORS:`"
   ]
  },
  {
   "cell_type": "markdown",
   "id": "a368c41b",
   "metadata": {},
   "source": [
    "<b>AND, OR & NOT operators:</b>  \n",
    "SELECT * FROM table_name  \n",
    "WHERE condn1 AND (condn2 OR NOT condn3);  \n",
    "\n",
    "<b>IN operator:</b>  \n",
    "SELECT * FROM table_name  \n",
    "WHERE col_name IN  \n",
    "(val1, val2, val3...);\n",
    "\n",
    "<b>LIKE operator:</b>  \n",
    "SELECT * FROM table_name  \n",
    "WHERE col_name LIKE 'x%';"
   ]
  },
  {
   "cell_type": "markdown",
   "id": "5932abc0",
   "metadata": {},
   "source": [
    "### `Data with Between & Not Between:`"
   ]
  },
  {
   "cell_type": "markdown",
   "id": "88a8d01e",
   "metadata": {},
   "source": [
    "NOTE: only applicable with numeric data   \n",
    "\n",
    "<b>Select rows which have col value between val1 and val2</b>  \n",
    "SELECT * FROM table_name    \n",
    "WHERE col_name BETWEEN val1 AND val2;  \n",
    "\n",
    "<b>Select rows which donot have col value between val1 and val2</b>  \n",
    "SELECT * FROM table_name  \n",
    "WHERE col_name NOT BETWEEN val1 AND val2;"
   ]
  },
  {
   "cell_type": "markdown",
   "id": "d10c837d",
   "metadata": {},
   "source": [
    "### `Order by & Distinct Clauses:`"
   ]
  },
  {
   "cell_type": "markdown",
   "id": "b00d7207",
   "metadata": {},
   "source": [
    "<b>Order table in ascending or descending order:</b>  \n",
    "SELECT * FROM table_name  \n",
    "ORDER BY col_name ASC|DESC;  \n",
    "\n",
    "<b>Extract only Distinct (Unique) data:</b>  \n",
    "SELECT DISTINCT col_name  \n",
    "FROM table_name;"
   ]
  },
  {
   "cell_type": "markdown",
   "id": "6867eff4",
   "metadata": {},
   "source": [
    "### `Is Null & Is Not Null Operators:`"
   ]
  },
  {
   "cell_type": "markdown",
   "id": "727fe213",
   "metadata": {},
   "source": [
    "<b>Extract row in which col_name is empty:</b>  \n",
    "SELECT * FROM table_name  \n",
    "WHERE col_name IS NULL;  \n",
    "\n",
    "<b>Extract row in which col_name is not empty:</b>  \n",
    "SELECT * FROM table_name  \n",
    "WHERE col_name IS NOT NULL;"
   ]
  },
  {
   "cell_type": "markdown",
   "id": "c42bc25d",
   "metadata": {},
   "source": [
    "### `Limit & Offset Operators:`"
   ]
  },
  {
   "cell_type": "markdown",
   "id": "84b6296a",
   "metadata": {},
   "source": [
    "<b>Limit the no of data returned from the table:</b>  \n",
    "SELECT * FROM table_name  \n",
    "LIMIT no_to_limit_by;\n",
    "\n",
    "<b>Using OFFSET to specify from where to start returning the data:</b>  \n",
    "SELECT * FROM table_name  \n",
    "LIMIT no_to_limit_by OFFSET no_of_rows_to_skip;"
   ]
  },
  {
   "cell_type": "markdown",
   "id": "c149369a",
   "metadata": {},
   "source": [
    "### `Aggregate Functions:`"
   ]
  },
  {
   "cell_type": "markdown",
   "id": "e6880fab",
   "metadata": {},
   "source": [
    "<b>Count the no of rows in a database:</b>  \n",
    "SELECT count(col_name) FROM table_name;  \n",
    "\n",
    "<b>Get the sum of rows in a database:</b>  \n",
    "SELECT sum(col_name) FROM table_name;  \n",
    "\n",
    "<b>Get the max value of rows in a database:</b>  \n",
    "SELECT max(col_name) FROM table_name;  \n",
    "\n",
    "<b>Get the min value of rows in a database:</b>  \n",
    "SELECT min(col_name) FROM table_name;  \n",
    "\n",
    "<b>Get the average(median) value of rows in a database:</b>    \n",
    "SELECT avg(col_name) FROM table_name;"
   ]
  },
  {
   "cell_type": "markdown",
   "id": "94346c65",
   "metadata": {},
   "source": [
    "### `Update & Delete Queries:`"
   ]
  },
  {
   "cell_type": "markdown",
   "id": "01e73e84",
   "metadata": {},
   "source": [
    "<b>Update Query:</b>  \n",
    "UPDATE table_name  \n",
    "SET col_name1 = new-value1,  \n",
    "col_name = new-value2  \n",
    "[WHERE CLAUSE];\n",
    "\n",
    "\n",
    "<b>Delete Query:</b>  \n",
    "DELETE FROM table_name  \n",
    "[WHERE CLAUSE];"
   ]
  },
  {
   "cell_type": "markdown",
   "id": "2776c5a0",
   "metadata": {},
   "source": [
    "### `Data Transaction`"
   ]
  },
  {
   "cell_type": "markdown",
   "id": "e23e2059",
   "metadata": {},
   "source": [
    "<b>Commit:</b>  \n",
    "COMMIT;  \n",
    "\n",
    "\n",
    "- CREATE\n",
    "- DELETE\n",
    "- UPDATE\n",
    "\n",
    "<b>Rollback:</b>  \n",
    "ROLLBACK;"
   ]
  },
  {
   "cell_type": "markdown",
   "id": "a78d612a",
   "metadata": {},
   "source": [
    "### `Keys`"
   ]
  },
  {
   "cell_type": "markdown",
   "id": "3a970a6e",
   "metadata": {},
   "source": [
    "<b>Primary Key:</b>  \n",
    "CREATE TABLE table_name (  \n",
    "  id INT NOT NULL AUTO_INCREMENT,  \n",
    "  name VARCHAR(50) NOT NULL,  \n",
    "  age INT NOT NULL,  \n",
    "  city VARCHAR(50) NOT NULL,  \n",
    "  \n",
    "  PRIMARY KEY (id)  \n",
    ");  \n",
    "\n",
    "<b>Foreign Key:</b>  \n",
    "CREATE TABLE table_name (  \n",
    "  id INT NOT NULL AUTO_INCREMENT,  \n",
    "  name VARCHAR(50) NOT NULL,  \n",
    "  age INT NOT NULL,  \n",
    "  city INT NOT NULL,    \n",
    "  \n",
    "  PRIMARY KEY (id),  \n",
    "  FOREIGN KEY (city) REFERENCES city (id)  \n",
    ");  "
   ]
  }
 ],
 "metadata": {
  "kernelspec": {
   "display_name": "Python 3 (ipykernel)",
   "language": "python",
   "name": "python3"
  },
  "language_info": {
   "codemirror_mode": {
    "name": "ipython",
    "version": 3
   },
   "file_extension": ".py",
   "mimetype": "text/x-python",
   "name": "python",
   "nbconvert_exporter": "python",
   "pygments_lexer": "ipython3",
   "version": "3.11.3"
  }
 },
 "nbformat": 4,
 "nbformat_minor": 5
}
