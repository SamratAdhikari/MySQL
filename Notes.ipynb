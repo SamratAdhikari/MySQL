{
 "cells": [
  {
   "cell_type": "markdown",
   "id": "eabc48d3",
   "metadata": {},
   "source": [
    "### What is MySQL?"
   ]
  },
  {
   "cell_type": "markdown",
   "id": "63472425",
   "metadata": {},
   "source": [
    "MySQL is a relational database management system (RDBMS) developed by Oracle that is based on Structured Query Language (SQL)."
   ]
  },
  {
   "cell_type": "markdown",
   "id": "3318fea8",
   "metadata": {},
   "source": [
    "### What is database?"
   ]
  },
  {
   "cell_type": "markdown",
   "id": "8dfb9a25",
   "metadata": {},
   "source": [
    "A database is an organized collection of structured information or data."
   ]
  },
  {
   "cell_type": "markdown",
   "id": "dad8269f",
   "metadata": {},
   "source": [
    "### What is DBMS?"
   ]
  },
  {
   "cell_type": "markdown",
   "id": "9ad50743",
   "metadata": {},
   "source": [
    "Database Management Systems (DBMS) are software systems used to store, retrieve and run queries on data.  \n",
    "Examples of some Queries are:\n",
    "- C: Create\n",
    "- R: Read\n",
    "- U: Update\n",
    "- D: Delete"
   ]
  },
  {
   "cell_type": "markdown",
   "id": "5aeccabb",
   "metadata": {},
   "source": [
    "### Types of DBMS?"
   ]
  },
  {
   "cell_type": "markdown",
   "id": "213a6e35",
   "metadata": {},
   "source": [
    "<b>Relational (SQL):</b>\n",
    "- A relational database is a collection of data items with pre-defined relationships between them, stored in the form of table, rows and columns.\n",
    "- List of SQL databases:\n",
    "    - MySQL\n",
    "    - MariaDB\n",
    "    - Oracle\n",
    "    - PostgreSQL\n",
    "    - MSSQL\n",
    "    \n",
    "\n",
    "<br>\n",
    "\n",
    "<b>Non-Relational (No-SQL):</b>"
   ]
  },
  {
   "cell_type": "markdown",
   "id": "28f82b14",
   "metadata": {},
   "source": [
    "### What is a database table?"
   ]
  },
  {
   "cell_type": "markdown",
   "id": "2ba5063a",
   "metadata": {},
   "source": [
    "Database table is a collection of rows and columns that contains relational data."
   ]
  },
  {
   "cell_type": "markdown",
   "id": "f4129890",
   "metadata": {},
   "source": [
    "### What is WHERE clause?"
   ]
  },
  {
   "cell_type": "markdown",
   "id": "df239db3",
   "metadata": {},
   "source": [
    "The WHERE clause is used to filter records.  \n",
    "It is used to extract those records that fulfill a specified condition.  \n",
    "Conditions that can be used in WHERE clause are:  \n",
    "- equals to: =\n",
    "- not equals to: !=\n",
    "- greater than: >\n",
    "- smaller than: <\n",
    "- greater than or equals to: >=\n",
    "- smaller than or equals to: <="
   ]
  },
  {
   "cell_type": "markdown",
   "id": "dbff4a4e",
   "metadata": {},
   "source": [
    "### Constraints in MySQL"
   ]
  },
  {
   "cell_type": "markdown",
   "id": "9b691c70",
   "metadata": {},
   "source": [
    "Constraints in DBMS are the restrictions that are applied to data or operations on the data.  \n",
    "This means that constraints allow only a particular kind of data to be inserted in the database or only some particular kind of operations to be performed on the data in the database.  \n",
    "Constraints are used to validate the data.  \n",
    "Some contraints in MySQL are:  \n",
    "- NOT NULL\n",
    "- UNIQUE\n",
    "- DEFAULT\n",
    "- CHECK\n",
    "- FOREIGN KEY\n",
    "- PRIMARY KEY"
   ]
  },
  {
   "cell_type": "markdown",
   "id": "22c46d77",
   "metadata": {},
   "source": [
    "### Operators in MySQL"
   ]
  },
  {
   "cell_type": "markdown",
   "id": "9a2af9a8",
   "metadata": {},
   "source": [
    "<b>AND operator:</b>  \n",
    "- MySQL logical AND operator compares two expressions and returns true if both of the expressions are true.\n",
    "\n",
    "<b>OR operator:</b>  \n",
    "- MySQL logical OR operator compares two expressions and returns TRUE if either of the expressions is TRUE.\n",
    "\n",
    "<b>NOT operator:</b>\n",
    "- MySQL logical NOT operator reverses or negates the input.\n",
    "\n",
    "<br>\n",
    "\n",
    "<b>IN operator:</b>\n",
    "- IN operator allows you to specify multiple values in a WHERE clause.\n",
    "- IN operator is a shorthand for multiple OR conditions.\n",
    "\n",
    "\n",
    "<br>\n",
    "\n",
    "<b>LIKE operator:</b>  \n",
    "LIKE operator is used in a WHERE clause to search for a specified pattern in a column.\n",
    "- The percent sign (%) represents zero, one or multiple characters.\n",
    "- The underscore sign (_) represents one, single character.  \n",
    "% and _ are called wildcards.  \n",
    "<img src='assets/LIKE operator table.png' width=300>"
   ]
  },
  {
   "cell_type": "markdown",
   "id": "0cc16090",
   "metadata": {},
   "source": [
    "### Data Types"
   ]
  },
  {
   "cell_type": "markdown",
   "id": "2e646989",
   "metadata": {},
   "source": [
    "There are primarily 3 data types in SQL:\n",
    "- String Data Types:\n",
    "    - CHAR(size) : 0 to 255\n",
    "    - VARCHAR(size) : 0 to 65535\n",
    "    - BINARY(size)\n",
    "    - VARBINARY(size)\n",
    "    - TINYTEXT : 255 characters\n",
    "    - TEXT(size) : 65,535 bytes\n",
    "    - MEDIUMTEXT : 16,777,215 characters\n",
    "    - LONGTEXT : 4,294,967,295 characters\n",
    "    - TINYBLOB : 255 bytes\n",
    "    - BLOB(size) : 65,535 bytes\n",
    "    - MEDIUMBLOB : 16,777,215 bytes\n",
    "    - LONGBLOB : 4,294,967,295 bytes\n",
    "    - ENUM(val1, val2, val3, ...) : list upto 65535 values\n",
    "    - SET(val1, val2, val3, ...) : list upto 64 values\n",
    "\n",
    "<br>\n",
    "\n",
    "- Numeric Data Type:\n",
    "    - BIT(size) : 1 to 64\n",
    "    - TINYINT(size) : -128 to 127\n",
    "    - INT(size) : -2147483648 to 2147483647\n",
    "    - INTEGER(size)\n",
    "    - SMALLINT(size) : -32768 to 32767\n",
    "    - MEDIUMINT(size) : -8388608 to 8388607\n",
    "    - BIGINT(size) : -9223342036854775808 to 9223342036854775807\n",
    "    - BOOL\n",
    "    - BOOLEAN: 0/1\n",
    "    - FLOAT(p)\n",
    "    - DOUBLE(size, d) : 255.568\n",
    "    - DECIMAL(size, d): size=60, d=30\n",
    "    - DEC(size, d)\n",
    "    \n",
    "<br>\n",
    "\n",
    "- Date & Time Data Type:\n",
    "    - DATE : '1000-01-01' to '9999-12-31'\n",
    "    - DATETIME(fsp) : YYYY-MM-DD hh:mm:ss\n",
    "    - TIMESTAMP(fsp)\n",
    "    - TIME(fsp) : hh:mm:ss\n",
    "    - YEAR : YYYY"
   ]
  },
  {
   "cell_type": "markdown",
   "id": "9c2fd569",
   "metadata": {},
   "source": [
    "### Code and Syntax:"
   ]
  },
  {
   "cell_type": "markdown",
   "id": "01e73e84",
   "metadata": {},
   "source": [
    "<b>INITIALIZE DATABASE & TABLE:</b>\n",
    "\n",
    "<i>Create a new database</i>  \n",
    "CREATE DATABASE db_name;\n",
    "\n",
    "<i>Select a database:</i>  \n",
    "USE db_name;\n",
    "\n",
    "<i>Create a new table inside the selected database:</i>  \n",
    "CREATE TABLE table_name(  \n",
    "    column1 datatype,   \n",
    "    column2 datatype,  \n",
    "    column3 datatype,  \n",
    "    ...  \n",
    ");\n",
    "\n",
    "<br>\n",
    "\n",
    "<b>INSERT QUERY:</b>  \n",
    "\n",
    "<i>Insert single row into the table:</i>  \n",
    "INSERT INTO table_name   \n",
    "(col1, col2, col3, ...)  \n",
    "VALUES   \n",
    "(val1, val2, val3, ...);\n",
    "\n",
    "<i>Insert multiple rows into the table:</i>  \n",
    "INSERT INTO table_name  \n",
    "(col1, col2, col3, ...)  \n",
    "VALUES  \n",
    "(val1, val2, val3, ...),  \n",
    "(val1, val2, val3, ...),  \n",
    "(val1, val2, val3, ...);  \n",
    "\n",
    "<i>Insert rows without mentioning the column names:</i> (NOTE: the values must correspond to columns)  \n",
    "INSERT INTO table_name VALUES    \n",
    "(val1, val2, val3, ...),  \n",
    "(val1, val2, val3, ...),  \n",
    "(val1, val2, val3, ...);  \n",
    "\n",
    "\n",
    "<br>\n",
    "\n",
    "<b>SELECT QUERY:</b>  \n",
    "\n",
    "<i>Select some columns:</i>  \n",
    "SELECT col1, col2, col3, ...  \n",
    "FROM table_name;  \n",
    "\n",
    "<i>Select column name and display them with an alias:</i>  \n",
    "SELECT col1, col2 AS \"alias_name\", col3, ...  \n",
    "FROM table_name;  \n",
    "\n",
    "<i>Select all columns:</i>  \n",
    "SELECT * FROM table_name;\n",
    "\n",
    "<i>Select columns using WHERE clause:</i>  \n",
    "SELECT col1, col2, ...  \n",
    "FROM table_name  \n",
    "WHERE condition;\n",
    "\n",
    "\n",
    "<br>\n",
    "\n",
    "\n",
    "<b>OPERATORS:</b>  \n",
    "\n",
    "<i>AND, OR & NOT operators:</i>  \n",
    "SELECT * FROM table_name  \n",
    "WHERE condn1 AND (condn2 OR NOT condn3);  \n",
    "\n",
    "<i>IN operator:</i>  \n",
    "SELECT * FROM table_name  \n",
    "WHERE col_name IN  \n",
    "(val1, val2, val3...);\n",
    "\n",
    "<i>LIKE operator:</i>  \n",
    "SELECT * FROM table_name  \n",
    "WHERE col_name LIKE 'x%';\n",
    "\n",
    "\n",
    "\n"
   ]
  }
 ],
 "metadata": {
  "kernelspec": {
   "display_name": "Python 3 (ipykernel)",
   "language": "python",
   "name": "python3"
  },
  "language_info": {
   "codemirror_mode": {
    "name": "ipython",
    "version": 3
   },
   "file_extension": ".py",
   "mimetype": "text/x-python",
   "name": "python",
   "nbconvert_exporter": "python",
   "pygments_lexer": "ipython3",
   "version": "3.11.3"
  }
 },
 "nbformat": 4,
 "nbformat_minor": 5
}
